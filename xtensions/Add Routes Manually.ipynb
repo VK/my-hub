{
 "cells": [
  {
   "cell_type": "code",
   "execution_count": 6,
   "metadata": {},
   "outputs": [],
   "source": [
    "import requests\n",
    "import json\n",
    "\n",
    "\n",
    "#import config file\n",
    "import configparser\n",
    "config = configparser.ConfigParser()\n",
    "config.read('/defaults.cfg')\n",
    "\n",
    "\n",
    "headers = {'Authorization': \"access_token {}\".format(config[\"ConfigurableHTTPProxy\"][\"auth_token\"]) }\n",
    "baseurl = \"http://127.0.0.1:8001\"\n",
    "\n",
    "\n",
    "res = requests.get(\"{}/api/routes\".format(baseurl), headers=headers)"
   ]
  },
  {
   "cell_type": "code",
   "execution_count": 7,
   "metadata": {},
   "outputs": [
    {
     "name": "stdout",
     "output_type": "stream",
     "text": [
      "{\n",
      "    \"/\": {\n",
      "        \"hub\": true,\n",
      "        \"target\": \"http://127.0.0.1:8081\",\n",
      "        \"jupyterhub\": true,\n",
      "        \"last_activity\": \"2020-04-05T16:06:10.443Z\"\n",
      "    },\n",
      "    \"/user/autost\": {\n",
      "        \"user\": \"autost\",\n",
      "        \"server_name\": \"\",\n",
      "        \"target\": \"http://127.0.0.1:52491\",\n",
      "        \"jupyterhub\": true,\n",
      "        \"last_activity\": \"2020-04-05T16:06:51.000Z\"\n",
      "    },\n",
      "    \"/user/autost/mongo\": {\n",
      "        \"target\": \"http://mongo-express:8081\",\n",
      "        \"cookiecheck\": true,\n",
      "        \"last_activity\": \"2020-04-05T16:06:49.017Z\"\n",
      "    }\n",
      "}\n"
     ]
    }
   ],
   "source": [
    "print(json.dumps(json.loads(res.content), indent=4))"
   ]
  },
  {
   "cell_type": "code",
   "execution_count": 4,
   "metadata": {},
   "outputs": [
    {
     "data": {
      "text/plain": [
       "<Response [201]>"
      ]
     },
     "execution_count": 4,
     "metadata": {},
     "output_type": "execute_result"
    }
   ],
   "source": [
    "requests.post(\"{}/api/routes/user/autost/mongo\".format(baseurl), headers=headers, data=json.dumps({'target': 'http://mongo-express:8081', 'username': 'autost', 'password': 'test'}))"
   ]
  },
  {
   "cell_type": "code",
   "execution_count": 5,
   "metadata": {},
   "outputs": [
    {
     "data": {
      "text/plain": [
       "<Response [201]>"
      ]
     },
     "execution_count": 5,
     "metadata": {},
     "output_type": "execute_result"
    }
   ],
   "source": [
    "requests.post(\"{}/api/routes/user/autost/mongo\".format(baseurl), headers=headers, data=json.dumps({'target': 'http://mongo-express:8081', 'cookiecheck': True}))\n",
    "requests.post(\"{}/api/routes/user/autost/airflow\".format(baseurl), headers=headers, data=json.dumps({'target': 'http://mongo-express:8081', 'cookiecheck': True}))"
   ]
  },
  {
   "cell_type": "code",
   "execution_count": null,
   "metadata": {},
   "outputs": [],
   "source": []
  },
  {
   "cell_type": "code",
   "execution_count": null,
   "metadata": {},
   "outputs": [],
   "source": []
  },
  {
   "cell_type": "code",
   "execution_count": 6,
   "metadata": {},
   "outputs": [
    {
     "name": "stderr",
     "output_type": "stream",
     "text": [
      "/usr/local/lib/python3.6/dist-packages/urllib3/connectionpool.py:1004: InsecureRequestWarning: Unverified HTTPS request is being made to host 'localhost'. Adding certificate verification is strongly advised. See: https://urllib3.readthedocs.io/en/latest/advanced-usage.html#ssl-warnings\n",
      "  InsecureRequestWarning,\n"
     ]
    }
   ],
   "source": [
    "res = requests.get(\"https://localhost:8000/user/autost/mongo\", verify=False, auth=(\"autost\", \"test\"))"
   ]
  },
  {
   "cell_type": "code",
   "execution_count": 7,
   "metadata": {},
   "outputs": [
    {
     "name": "stdout",
     "output_type": "stream",
     "text": [
      "b'<!DOCTYPE html>\\n<html lang=\"en\">\\n<head>\\n  <base href=\"/user/autost/mongo/\">\\n  <meta charset=\"utf-8\">\\n  <title>Home - Mongo Express</title>\\n  <meta name=\"viewport\" content=\"width=device-width, initial-scale=1.0\">\\n\\n  <link href=\"/user/autost/mongo/public/css/bootstrap.min.css\" rel=\"stylesheet\">\\n  <link href=\"/user/autost/mongo/public/css/bootstrap-theme.min.css\" rel=\"stylesheet\">\\n  <link href=\"/user/autost/mongo/public/css/style.css\" rel=\"stylesheet\" />\\n\\n  <link rel=\"prefetch\" href=\"/user/autost/mongo/public/img/gears.gif\">\\n\\n  <style type=\"text/css\">\\n    body {\\n      padding-top: 60px;\\n      padding-bottom: 40px;\\n    }\\n    .sidebar-nav {\\n      padding: 9px 0;\\n    }\\n    .sidebar-nav a {\\n      display: inline-block;\\n      text-overflow: ellipsis;\\n      white-space: nowrap;\\n      overflow: hidden;\\n    }\\n    .tooltip-inner {\\n      max-width: 500px;\\n    }\\n  </style>\\n\\n  \\n</head>\\n\\n<body>\\n\\n<nav class=\"navbar navbar-default navbar-fixed-top\">\\n  <div class=\"container\">\\n    <div class=\"navbar-header\">\\n      <button type=\"button\" class=\"navbar-toggle collapsed\" data-toggle=\"collapse\" data-target=\"#navbar\" aria-expanded=\"false\" aria-controls=\"navbar\">\\n        <span class=\"sr-only\">Toggle navigation</span>\\n        <span class=\"icon-bar\"></span>\\n        <span class=\"icon-bar\"></span>\\n        <span class=\"icon-bar\"></span>\\n      </button>\\n      <div class=\"logo-nav\">\\n        <a href=\"/user/autost/mongo/\">\\n          <img src=\"/user/autost/mongo/public/img/mongo-express-logo.png\" />\\n        </a>\\n      </div>\\n      <a class=\"navbar-brand\" href=\"\">Mongo Express</a>\\n    </div>\\n    <div id=\"navbar\" class=\"navbar-collapse collapse\">\\n      <ul class=\"nav navbar-nav\">\\n        \\n  <li class=\"dropdown\">\\n    <a href=\"#\" class=\"dropdown-toggle\" data-toggle=\"dropdown\" role=\"button\" aria-haspopup=\"true\" aria-expanded=\"false\">Database<span class=\"caret\"></span></a>\\n    <ul class=\"dropdown-menu\">\\n      \\n      <li><a href=\"/user/autost/mongo/db/admin/\">admin</a></li>\\n      \\n      <li><a href=\"/user/autost/mongo/db/config/\">config</a></li>\\n      \\n      <li><a href=\"/user/autost/mongo/db/local/\">local</a></li>\\n      \\n    </ul>\\n  </li>\\n\\n      </ul>\\n    </div><!--/.nav-collapse -->\\n  </div>\\n</nav>\\n\\n\\n<div class=\"container\">\\n  <div class=\"row\">\\n    <div class=\"col-md-12\">\\n      <div class=\"page-header main-title\">\\n        <h1 id=\"pageTitle\">Mongo Express</h1>\\n      </div>\\n\\n      \\n\\n      \\n\\n    </div>\\n  </div>\\n\\n  <div class=\"row\">\\n    <div class=\"col-md-12\">\\n      \\n<div class=\"panel panel-default\">\\n  <div class=\"panel-heading\">\\n    <div style=\"display: inline-block;\">\\n      <h4 style=\"font-weight: bold;\">Databases</h4>\\n    </div>\\n    \\n    <form class=\"form-inline\" method=\"POST\" style=\"float:right;\">\\n      <div class=\"input-group\">\\n        <input class=\"form-control\" type=\"text\" id=\"database\" name=\"database\" placeholder=\"Database Name\" title=\"Database Name\">\\n        <span class=\"input-group-btn\">\\n      <button type=\"submit\" class=\"btn btn-primary pull-right\">\\n        <span class=\"glyphicon glyphicon-plus\"></span>\\n        Create Database\\n      </button>\\n        </span>\\n      </div>\\n    </form>\\n    \\n    </div>\\n  <div class=\"panel-body no-padding\">\\n<table class=\"table table-bordered table-striped table-condensed no-margin\">\\n  \\n  <tr>\\n    <td class=\"col-md-2\">\\n      <a href=\"/user/autost/mongo/db/admin/\" class=\"btn btn-success btn-block\" >\\n        <span class=\"glyphicon glyphicon-eye-open\"></span><br>View\\n      </a>\\n    </td>\\n    <td><h3><a href=\"/user/autost/mongo/db/admin/\">admin</a></h3></td>\\n    \\n    <td class=\"col-md-2\">\\n      <form method=\"POST\" id=\"db-admin\" action=\"/user/autost/mongo/admin\" style=\"margin: 0px;\">\\n        <input type=\"hidden\" name=\"_method\" value=\"delete\">\\n        <button type=\"submit\" class=\"hidden\"></button>\\n      </form>\\n      <button class=\"btn btn-danger btn-block deleteButton\" database-name=\"admin\" childof=\"db-admin\">\\n        <span class=\"glyphicon glyphicon-trash\"></span><br>Del\\n      </button>\\n    </td>\\n    \\n  </tr>\\n  \\n  <tr>\\n    <td class=\"col-md-2\">\\n      <a href=\"/user/autost/mongo/db/config/\" class=\"btn btn-success btn-block\" >\\n        <span class=\"glyphicon glyphicon-eye-open\"></span><br>View\\n      </a>\\n    </td>\\n    <td><h3><a href=\"/user/autost/mongo/db/config/\">config</a></h3></td>\\n    \\n    <td class=\"col-md-2\">\\n      <form method=\"POST\" id=\"db-config\" action=\"/user/autost/mongo/config\" style=\"margin: 0px;\">\\n        <input type=\"hidden\" name=\"_method\" value=\"delete\">\\n        <button type=\"submit\" class=\"hidden\"></button>\\n      </form>\\n      <button class=\"btn btn-danger btn-block deleteButton\" database-name=\"config\" childof=\"db-config\">\\n        <span class=\"glyphicon glyphicon-trash\"></span><br>Del\\n      </button>\\n    </td>\\n    \\n  </tr>\\n  \\n  <tr>\\n    <td class=\"col-md-2\">\\n      <a href=\"/user/autost/mongo/db/local/\" class=\"btn btn-success btn-block\" >\\n        <span class=\"glyphicon glyphicon-eye-open\"></span><br>View\\n      </a>\\n    </td>\\n    <td><h3><a href=\"/user/autost/mongo/db/local/\">local</a></h3></td>\\n    \\n    <td class=\"col-md-2\">\\n      <form method=\"POST\" id=\"db-local\" action=\"/user/autost/mongo/local\" style=\"margin: 0px;\">\\n        <input type=\"hidden\" name=\"_method\" value=\"delete\">\\n        <button type=\"submit\" class=\"hidden\"></button>\\n      </form>\\n      <button class=\"btn btn-danger btn-block deleteButton\" database-name=\"local\" childof=\"db-local\">\\n        <span class=\"glyphicon glyphicon-trash\"></span><br>Del\\n      </button>\\n    </td>\\n    \\n  </tr>\\n  \\n</table>\\n</div>\\n  </div>\\n\\n<div id=\"confirm-deletion\" class=\"modal fade\" role=\"dialog\" aria-labelledby=\"confirmDeletionLabel\">\\n  <div class=\"modal-dialog\" role=\"document\">\\n    <div class=\"modal-content\">\\n\\n      <div class=\"modal-header\">\\n        <button type=\"button\" class=\"close\" data-dismiss=\"modal\"><span aria-hidden=\"true\">&times;</span></button>\\n        <h4 class=\"modal-title\" id=\"myModalLabel\">Delete database</h4>\\n      </div>\\n\\n      <div class=\"modal-body\">\\n        <p>\\n          Be careful! You are about to delete whole <strong><span id=\"modal-database-name\"></span></strong> database.\\n        </p>\\n        <p>\\n          <label for=\"confirmation-input\">Type the database name to proceed.</label>\\n          <input type=\"text\" id=\"confirmation-input\" name=\"confirmation-input\" shouldbe=\"\" value=\"\" />\\n        </p>\\n      </div>\\n\\n      <div class=\"modal-footer\">\\n        <button type=\"button\" data-dismiss=\"modal\" class=\"btn btn btn-danger\" id=\"delete\">Delete</button>\\n        <button type=\"button\" data-dismiss=\"modal\" class=\"btn\">Cancel</button>\\n      </div>\\n    </div>\\n  </div>\\n</div>\\n\\n<!--h2>Create Database</h2>\\n<form class=\"well form-inline\" method=\"POST\">\\n    <div class=\"form-group\">\\n      <input class=\"input-medium\" type=\"text\" id=\"database\" name=\"database\" placeholder=\"Database Name\" title=\"Database Name\">\\n    </div>\\n    <button type=\"submit\" class=\"btn btn-primary pull-right\">\\n      <span class=\"glyphicon glyphicon-plus\"></span>\\n      Create Database\\n    </button>\\n</form-->\\n\\n\\n\\n<div class=\"panel panel-default stats\">\\n  <div class=\"panel-heading\">\\n    <h4 style=\"font-weight: bold;\">Server Status</h4>\\n  </div>\\n<table class=\"table table-bordered table-striped\">\\n  <tr>\\n    <td class=\"span2\"><strong>Hostname</strong></td>\\n    <td class=\"span3\" id=\"dbHost\">2411e7c89a76</td>\\n    <td class=\"span2\"><strong>MongoDB Version</strong></td>\\n    <td class=\"span3\" id=\"dbVersion\">4.2.0</td>\\n  </tr>\\n  <tr>\\n    <td><strong>Uptime</strong></td>\\n    <td>462 seconds </td>\\n    <td><strong>Server Time</strong></td>\\n    <td>Sun, 05 Apr 2020 15:03:05 GMT</td>\\n  </tr>\\n  <tr><td colspan=\"4\">&nbsp;</td></tr>\\n  <tr>\\n    <td><strong>Current Connections</strong></td>\\n    <td>4</td>\\n    <td><strong>Available Connections</strong></td>\\n    <td>838856</td>\\n  </tr>\\n  <tr>\\n    <td><strong>Active Clients</strong></td>\\n    <td>0</td>\\n    <td><strong>Queued Operations</strong></td>\\n    <td>0</td>\\n  </tr>\\n  <tr>\\n    <td><strong>Clients Reading</strong></td>\\n    <td>0</td>\\n    <td><strong>Clients Writing</strong></td>\\n    <td>0</td>\\n  </tr>\\n  <tr>\\n    <td><strong>Read Lock Queue</strong></td>\\n    <td>0</td>\\n    <td><strong>Write Lock Queue</strong></td>\\n    <td>0</td>\\n  </tr>\\n  <tr><td colspan=\"4\">&nbsp;</td></tr>\\n  <tr>\\n    <td><strong>Disk Flushes</strong></td>\\n    <td></td>\\n    <td><strong>Last Flush</strong></td>\\n    <td></td>\\n  </tr>\\n  <tr>\\n    <td><strong>Time Spent Flushing</strong></td>\\n    <td> ms</td>\\n    <td><strong>Average Flush Time</strong></td>\\n    <td> ms</td>\\n  </tr>\\n  <tr><td colspan=\"4\">&nbsp;</td></tr>\\n  <tr>\\n    <td><strong>Total Inserts</strong></td>\\n    <td>0</td>\\n    <td><strong>Total Queries</strong></td>\\n    <td>3</td>\\n  </tr>\\n  <tr>\\n    <td><strong>Total Updates</strong></td>\\n    <td>0</td>\\n    <td><strong>Total Deletes</strong></td>\\n    <td>0</td>\\n  </tr>\\n</table>\\n</div>\\n\\n\\n\\n\\n\\n    </div>\\n  </div>\\n</div>\\n\\n<script src=\"/user/autost/mongo/public/vendor-47ad38d08af7dbfa26be.min.js\"></script>\\n<script type=\"text/javascript\">\\n\\'use strict\\';\\nwindow.ME_SETTINGS = {\\n  readOnly: \\'false\\' === \\'true\\',\\n  codeMirrorEditorTheme: \\'\\',\\n  baseHref: \\'/user/autost/mongo/\\',\\n  collapsibleJSON: \\'false\\' === \\'true\\',\\n  collapsibleJSONDefaultUnfold: parseInt(\\'0\\', 10),\\n  confirmDelete: \\'false\\' === \\'true\\',\\n  dbName: \\'\\',\\n  collectionName: \\'\\',\\n  bucketName: \\'\\'\\n};\\n</script>\\n\\n\\n<script src=\"/user/autost/mongo/public/index-512f467a07c538127931.min.js\"></script>\\n\\n\\n</body>\\n</html>\\n'\n"
     ]
    }
   ],
   "source": [
    "print(res.content)"
   ]
  },
  {
   "cell_type": "code",
   "execution_count": null,
   "metadata": {},
   "outputs": [],
   "source": []
  }
 ],
 "metadata": {
  "kernelspec": {
   "display_name": "Python 3",
   "language": "python",
   "name": "python3"
  },
  "language_info": {
   "codemirror_mode": {
    "name": "ipython",
    "version": 3
   },
   "file_extension": ".py",
   "mimetype": "text/x-python",
   "name": "python",
   "nbconvert_exporter": "python",
   "pygments_lexer": "ipython3",
   "version": "3.6.9"
  }
 },
 "nbformat": 4,
 "nbformat_minor": 4
}