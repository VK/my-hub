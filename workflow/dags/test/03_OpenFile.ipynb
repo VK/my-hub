{
 "cells": [
  {
   "cell_type": "markdown",
   "metadata": {},
   "source": [
    "# Open File in Databricks"
   ]
  },
  {
   "cell_type": "code",
   "execution_count": null,
   "metadata": {
    "tags": [
     "parameters"
    ]
   },
   "outputs": [],
   "source": [
    "params = \"{\\\"a\\\": 0}\"\n",
    "workflow = \"{\\\"dagBase\\\": \\\"/home/af-hub/workflow/dags\\\", \\\"dagFolder\\\": \\\"/home/af-hub/workflow/dags/test\\\", \\\"workingDir\\\": \\\"/home/af-hub/workflow/output/2020-04-02_00_00\\\", \\\"fileStore\\\": \\\"/home/af-hub/workflow/FileStore\\\"}\""
   ]
  },
  {
   "cell_type": "code",
   "execution_count": null,
   "metadata": {},
   "outputs": [],
   "source": [
    "import json\n",
    "params = json.loads(params)\n",
    "workflow = json.loads(workflow)\n",
    "on_databricks = False\n",
    "\n",
    "# get parameters in databricks\n",
    "try:\n",
    "    params=json.loads(dbutils.widgets.get(\"params\"))\n",
    "    workflow=json.loads(dbutils.widgets.get(\"workflow\"))\n",
    "    on_databricks = True\n",
    "except:\n",
    "    pass"
   ]
  },
  {
   "cell_type": "code",
   "execution_count": null,
   "metadata": {
    "tags": []
   },
   "outputs": [],
   "source": [
    "params"
   ]
  },
  {
   "cell_type": "code",
   "execution_count": null,
   "metadata": {},
   "outputs": [],
   "source": [
    "import os\n",
    "\n",
    "with open(os.path.join(workflow[\"fileStore\"], \"test/test.json\"), \"r\") as f:\n",
    "    data = json.loads(f.read())\n",
    "\n",
    "data"
   ]
  },
  {
   "cell_type": "code",
   "execution_count": null,
   "metadata": {},
   "outputs": [],
   "source": [
    "data.append( {\"addon\": \"new data\"} )"
   ]
  },
  {
   "cell_type": "code",
   "execution_count": null,
   "metadata": {},
   "outputs": [],
   "source": [
    "with open(os.path.join(workflow[\"fileStore\"], \"test/test_output.json\"), \"w\") as f:\n",
    "    f.write(json.dumps(data))"
   ]
  },
  {
   "cell_type": "code",
   "execution_count": 1,
   "metadata": {
    "tags": []
   },
   "outputs": [
    {
     "output_type": "stream",
     "name": "stdout",
     "text": "Test Class Info\n"
    }
   ],
   "source": [
    "#import testlib\n",
    "#test_class = testlib.Test()\n",
    "\n",
    "#print(test_class.info)"
   ]
  },
  {
   "cell_type": "code",
   "execution_count": null,
   "metadata": {},
   "outputs": [],
   "source": []
  }
 ],
 "metadata": {
  "kernelspec": {
   "name": "Python 3.8.2 64-bit",
   "display_name": "Python 3.8.2 64-bit",
   "metadata": {
    "interpreter": {
     "hash": "2db524e06e9f5f4ffedc911c917cb75e12dbc923643829bf417064a77eb14d37"
    }
   }
  },
  "language_info": {
   "codemirror_mode": {
    "name": "ipython",
    "version": 3
   },
   "file_extension": ".py",
   "mimetype": "text/x-python",
   "name": "python",
   "nbconvert_exporter": "python",
   "pygments_lexer": "ipython3",
   "version": "3.8.2-final"
  }
 },
 "nbformat": 4,
 "nbformat_minor": 4
}