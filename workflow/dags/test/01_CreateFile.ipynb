{
 "cells": [
  {
   "cell_type": "markdown",
   "metadata": {},
   "source": [
    "# Create File for Upload"
   ]
  },
  {
   "cell_type": "code",
   "execution_count": null,
   "metadata": {
    "tags": [
     "parameters"
    ]
   },
   "outputs": [],
   "source": [
    "params = \"{\\\"a\\\": 0}\"\n",
    "workflow = \"{\\\"dagBase\\\": \\\"/home/af-hub/workflow/dags\\\", \\\"dagFolder\\\": \\\"/home/af-hub/workflow/dags/test\\\", \\\"workingDir\\\": \\\"/home/af-hub/workflow/output/2020-04-02_00_00\\\", \\\"fileStore\\\": \\\"/home/af-hub/workflow/FileStore\\\"}\""
   ]
  },
  {
   "cell_type": "code",
   "execution_count": null,
   "metadata": {},
   "outputs": [],
   "source": [
    "import json\n",
    "params = json.loads(params)\n",
    "workflow = json.loads(workflow)\n",
    "on_databricks = False\n",
    "\n",
    "# get parameters in databricks\n",
    "try:\n",
    "    params=json.loads(dbutils.widgets.get(\"params\"))\n",
    "    workflow=json.loads(dbutils.widgets.get(\"workflow\"))\n",
    "    on_databricks = True\n",
    "except:\n",
    "    pass"
   ]
  },
  {
   "cell_type": "code",
   "execution_count": null,
   "metadata": {},
   "outputs": [],
   "source": [
    "print(params[\"a\"])"
   ]
  },
  {
   "cell_type": "code",
   "execution_count": null,
   "metadata": {},
   "outputs": [],
   "source": [
    "testdata = [{\"name\": \"hallo\", \"value\":0}, {\"name\": \"welt\", \"value\":1}, params]\n",
    "\n",
    "import os\n",
    "if not os.path.exists(os.path.join(workflow[\"fileStore\"], \"test\")):\n",
    "    os.makedirs(os.path.join(workflow[\"fileStore\"], \"test\"))\n",
    "\n",
    "with open(os.path.join(workflow[\"fileStore\"], \"test/test.json\"), \"w\") as f:\n",
    "    f.write(json.dumps(testdata))"
   ]
  },
  {
   "cell_type": "code",
   "execution_count": null,
   "metadata": {},
   "outputs": [],
   "source": [
    "import testlib\n",
    "test_class = testlib.Test()\n",
    "\n",
    "print(test_class.info)"
   ]
  }
 ],
 "metadata": {
  "kernelspec": {
   "display_name": "Python 3",
   "language": "python",
   "name": "python3"
  },
  "language_info": {
   "codemirror_mode": {
    "name": "ipython",
    "version": 3
   },
   "file_extension": ".py",
   "mimetype": "text/x-python",
   "name": "python",
   "nbconvert_exporter": "python",
   "pygments_lexer": "ipython3",
   "version": "3.6.9"
  }
 },
 "nbformat": 4,
 "nbformat_minor": 4
}