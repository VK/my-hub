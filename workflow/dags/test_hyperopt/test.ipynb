{
 "cells": [
  {
   "cell_type": "code",
   "execution_count": 1,
   "id": "b7b68c7c-14c5-48e7-9d63-9c6500da0c1a",
   "metadata": {
    "tags": [
     "parameters"
    ]
   },
   "outputs": [],
   "source": [
    "params = \"{\\\"filename\\\": \\\"test.txt\\\"}\""
   ]
  },
  {
   "cell_type": "code",
   "execution_count": null,
   "id": "7d3fbaa1-9dc5-41f0-9757-7066c17bb805",
   "metadata": {},
   "outputs": [],
   "source": [
    "{\n",
    "    \"test\": 12\n",
    "}"
   ]
  }
 ],
 "metadata": {
  "kernelspec": {
   "display_name": "Python 3 (ipykernel)",
   "language": "python",
   "name": "python3"
  },
  "language_info": {
   "codemirror_mode": {
    "name": "ipython",
    "version": 3
   },
   "file_extension": ".py",
   "mimetype": "text/x-python",
   "name": "python",
   "nbconvert_exporter": "python",
   "pygments_lexer": "ipython3",
   "version": "3.11.0rc1"
  }
 },
 "nbformat": 4,
 "nbformat_minor": 5
}
