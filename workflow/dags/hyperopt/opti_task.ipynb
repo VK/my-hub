{
 "cells": [
  {
   "cell_type": "code",
   "execution_count": null,
   "id": "b7b68c7c-14c5-48e7-9d63-9c6500da0c1a",
   "metadata": {
    "tags": [
     "parameters"
    ]
   },
   "outputs": [],
   "source": [
    "params = \"{\\\"filename\\\": \\\"test.txt\\\"}\"\n",
    "upstream_returns = \"{}\"\n",
    "conf = \"{}\""
   ]
  },
  {
   "cell_type": "code",
   "execution_count": null,
   "id": "948fe40a-6f2e-445b-a431-f1ef5f2ec134",
   "metadata": {},
   "outputs": [],
   "source": [
    "import json\n",
    "params = json.loads(params)\n",
    "upstream_returns = json.loads(upstream_returns)\n",
    "for v in upstream_returns.values():\n",
    "    params.update(v)"
   ]
  },
  {
   "cell_type": "code",
   "execution_count": null,
   "id": "495e7d4c-cb72-4500-8094-0e75dd7aea41",
   "metadata": {},
   "outputs": [],
   "source": [
    "import time\n",
    "time.sleep(1)"
   ]
  },
  {
   "cell_type": "code",
   "execution_count": null,
   "id": "7d3fbaa1-9dc5-41f0-9757-7066c17bb805",
   "metadata": {
    "tags": []
   },
   "outputs": [],
   "source": [
    "{\n",
    "    \"status\": \"ok\", \"loss\": (params['x'] - 2.0 )**2, **params\n",
    "}"
   ]
  }
 ],
 "metadata": {
  "kernelspec": {
   "display_name": "Python 3 (ipykernel)",
   "language": "python",
   "name": "python3"
  },
  "language_info": {
   "codemirror_mode": {
    "name": "ipython",
    "version": 3
   },
   "file_extension": ".py",
   "mimetype": "text/x-python",
   "name": "python",
   "nbconvert_exporter": "python",
   "pygments_lexer": "ipython3",
   "version": "3.11.0rc1"
  }
 },
 "nbformat": 4,
 "nbformat_minor": 5
}
