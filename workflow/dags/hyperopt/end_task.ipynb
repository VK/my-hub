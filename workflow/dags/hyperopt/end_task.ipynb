{
 "cells": [
  {
   "cell_type": "code",
   "execution_count": null,
   "id": "c69ea3c8-a6e7-48f3-878a-e9ac096a14d2",
   "metadata": {
    "tags": [
     "parameters"
    ]
   },
   "outputs": [],
   "source": [
    "params = \"{\\\"filename\\\": \\\"test.txt\\\"}\"\n",
    "conf = \"{\\\"t\\\": 12, \\\"x\\\": -5.013918180571546}\""
   ]
  },
  {
   "cell_type": "code",
   "execution_count": null,
   "id": "22949988-cc28-4961-8d4d-98ffdbf4b503",
   "metadata": {
    "tags": []
   },
   "outputs": [],
   "source": [
    "{}"
   ]
  }
 ],
 "metadata": {
  "kernelspec": {
   "display_name": "Python 3 (ipykernel)",
   "language": "python",
   "name": "python3"
  },
  "language_info": {
   "codemirror_mode": {
    "name": "ipython",
    "version": 3
   },
   "file_extension": ".py",
   "mimetype": "text/x-python",
   "name": "python",
   "nbconvert_exporter": "python",
   "pygments_lexer": "ipython3",
   "version": "3.11.0rc1"
  }
 },
 "nbformat": 4,
 "nbformat_minor": 5
}
