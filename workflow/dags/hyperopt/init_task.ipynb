{
 "cells": [
  {
   "cell_type": "code",
   "execution_count": null,
   "id": "297a398d-4139-48a4-b880-89664f1b824e",
   "metadata": {
    "tags": [
     "parameters"
    ]
   },
   "outputs": [],
   "source": [
    "params = \"{\\\"filename\\\": \\\"test.txt\\\"}\"\n",
    "conf = \"{\\\"t\\\": 12, \\\"x\\\": -5.013918180571546}\""
   ]
  },
  {
   "cell_type": "code",
   "execution_count": null,
   "id": "9a819357-6330-4c16-ac99-5a75fc2cefdc",
   "metadata": {
    "tags": []
   },
   "outputs": [],
   "source": [
    "{}"
   ]
  }
 ],
 "metadata": {
  "kernelspec": {
   "display_name": "Python 3 (ipykernel)",
   "language": "python",
   "name": "python3"
  },
  "language_info": {
   "codemirror_mode": {
    "name": "ipython",
    "version": 3
   },
   "file_extension": ".py",
   "mimetype": "text/x-python",
   "name": "python",
   "nbconvert_exporter": "python",
   "pygments_lexer": "ipython3",
   "version": "3.11.0rc1"
  }
 },
 "nbformat": 4,
 "nbformat_minor": 5
}
