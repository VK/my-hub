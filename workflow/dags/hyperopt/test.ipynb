{
 "cells": [
  {
   "cell_type": "code",
   "execution_count": null,
   "id": "213a8f83-d33c-4318-a9b6-be8872e53cbc",
   "metadata": {},
   "outputs": [],
   "source": [
    "from hyperopt.mongoexp import MongoTrials\n",
    "import plotly.express as px\n",
    "import numpy as np"
   ]
  },
  {
   "cell_type": "code",
   "execution_count": null,
   "id": "1412053e-a391-4dd2-9921-02c06638de83",
   "metadata": {
    "tags": []
   },
   "outputs": [],
   "source": [
    "mongo_connection='mongo://mongo:27017/hyperopt/jobs'\n",
    "exp_key = \"hyperopt_optimize\""
   ]
  },
  {
   "cell_type": "code",
   "execution_count": null,
   "id": "7391b32d-78a2-458e-b5c2-c3c3ab3755bf",
   "metadata": {
    "tags": []
   },
   "outputs": [],
   "source": [
    "trials = MongoTrials(mongo_connection, exp_key=exp_key, refresh=True)"
   ]
  },
  {
   "cell_type": "code",
   "execution_count": null,
   "id": "bf6b9b47-ff12-4a3a-a422-07c828983759",
   "metadata": {
    "tags": []
   },
   "outputs": [],
   "source": [
    "trials.refresh()\n",
    "iteration_stop_count = 10\n",
    "\n",
    "good_trials = [t for t in trials.trials if t[\"result\"][\"status\"] == \"ok\"]\n",
    "good_trials.sort(key= lambda t: t.get(\"tid\"))\n",
    "latest_losses = [t[\"result\"][\"loss\"] for t in good_trials]\n",
    "\n",
    "iteration_no_progress = len(latest_losses) - np.argmin(latest_losses)\n",
    "best_loss = np.min(latest_losses)\n",
    "\n",
    "\n",
    "px.line(latest_losses, log_y=True)"
   ]
  },
  {
   "cell_type": "code",
   "execution_count": null,
   "id": "66cf1f5d-8c22-4bcb-9b2f-1d1c4facef6e",
   "metadata": {
    "tags": []
   },
   "outputs": [],
   "source": []
  },
  {
   "cell_type": "code",
   "execution_count": null,
   "id": "3d9e6b17-553d-4061-a3bc-098b26aaadf2",
   "metadata": {},
   "outputs": [],
   "source": []
  }
 ],
 "metadata": {
  "kernelspec": {
   "display_name": "Python 3 (ipykernel)",
   "language": "python",
   "name": "python3"
  },
  "language_info": {
   "codemirror_mode": {
    "name": "ipython",
    "version": 3
   },
   "file_extension": ".py",
   "mimetype": "text/x-python",
   "name": "python",
   "nbconvert_exporter": "python",
   "pygments_lexer": "ipython3",
   "version": "3.11.0rc1"
  }
 },
 "nbformat": 4,
 "nbformat_minor": 5
}
