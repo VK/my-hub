{
 "cells": [
  {
   "cell_type": "code",
   "execution_count": 1,
   "id": "b7b68c7c-14c5-48e7-9d63-9c6500da0c1a",
   "metadata": {
    "tags": [
     "parameters"
    ]
   },
   "outputs": [],
   "source": [
    "params = \"{\\\"filename\\\": \\\"test.txt\\\"}\""
   ]
  },
  {
   "cell_type": "code",
   "execution_count": 2,
   "id": "340ea81a-ae20-4839-9ae9-503ad7d79563",
   "metadata": {
    "tags": []
   },
   "outputs": [],
   "source": [
    "import testlib\n",
    "import socket\n",
    "import json\n",
    "\n",
    "filename = json.loads(params)[\"filename\"]"
   ]
  },
  {
   "cell_type": "code",
   "execution_count": 3,
   "id": "ed0399aa-7e28-4c61-97d2-40f18dcde340",
   "metadata": {},
   "outputs": [],
   "source": [
    "obj = testlib.Test()"
   ]
  },
  {
   "cell_type": "code",
   "execution_count": 4,
   "id": "568d9a05-4dfe-4a31-91d7-18c38704c125",
   "metadata": {},
   "outputs": [
    {
     "name": "stdout",
     "output_type": "stream",
     "text": [
      "Test Class Info\n"
     ]
    }
   ],
   "source": [
    "print(obj.info)"
   ]
  },
  {
   "cell_type": "code",
   "execution_count": 5,
   "id": "efe49dd2-ea37-404f-a366-3af24d51fc32",
   "metadata": {},
   "outputs": [],
   "source": [
    "with open(filename, \"w\") as f:\n",
    "    f.write(socket.gethostname())"
   ]
  },
  {
   "cell_type": "code",
   "execution_count": null,
   "id": "7d3fbaa1-9dc5-41f0-9757-7066c17bb805",
   "metadata": {},
   "outputs": [],
   "source": []
  }
 ],
 "metadata": {
  "kernelspec": {
   "display_name": "Python 3",
   "language": "python",
   "name": "python3"
  },
  "language_info": {
   "codemirror_mode": {
    "name": "ipython",
    "version": 3
   },
   "file_extension": ".py",
   "mimetype": "text/x-python",
   "name": "python",
   "nbconvert_exporter": "python",
   "pygments_lexer": "ipython3",
   "version": "3.8.10"
  }
 },
 "nbformat": 4,
 "nbformat_minor": 5
}
