{
 "cells": [
  {
   "cell_type": "code",
   "execution_count": null,
   "id": "living-verification",
   "metadata": {},
   "outputs": [],
   "source": [
    "!pip install tensorflow_datasets"
   ]
  },
  {
   "cell_type": "code",
   "execution_count": null,
   "id": "optimum-woman",
   "metadata": {},
   "outputs": [],
   "source": [
    "import tensorflow as tf\n",
    "import tensorflow_datasets as tfds\n",
    "import numpy as np\n",
    "\n",
    "import mlflow\n",
    "import mlflow.keras\n",
    "from mlflow.models.signature import infer_signature\n",
    "import plotly.express as px"
   ]
  },
  {
   "cell_type": "code",
   "execution_count": null,
   "id": "willing-halloween",
   "metadata": {},
   "outputs": [],
   "source": [
    "(ds_train, ds_test), ds_info = tfds.load(\n",
    "    'mnist',\n",
    "    split=['train', 'test'],\n",
    "    shuffle_files=True,\n",
    "    as_supervised=True,\n",
    "    with_info=True,\n",
    ")"
   ]
  },
  {
   "cell_type": "code",
   "execution_count": null,
   "id": "devoted-saudi",
   "metadata": {},
   "outputs": [],
   "source": [
    "def normalize_img(image, label):\n",
    "    \"\"\"Normalizes images: `uint8` -> `float32`.\"\"\"\n",
    "    return tf.cast(image, tf.float32) / 255., label\n",
    "\n",
    "ds_train = ds_train.map(\n",
    "    normalize_img, num_parallel_calls=tf.data.experimental.AUTOTUNE)\n",
    "ds_train = ds_train.cache()\n",
    "ds_train = ds_train.shuffle(ds_info.splits['train'].num_examples)\n",
    "ds_train = ds_train.batch(128)\n",
    "ds_train = ds_train.prefetch(tf.data.experimental.AUTOTUNE)"
   ]
  },
  {
   "cell_type": "code",
   "execution_count": null,
   "id": "wired-glass",
   "metadata": {},
   "outputs": [],
   "source": [
    "ds_test = ds_test.map(\n",
    "    normalize_img, num_parallel_calls=tf.data.experimental.AUTOTUNE)\n",
    "ds_test = ds_test.batch(128)\n",
    "ds_test = ds_test.cache()\n",
    "ds_test = ds_test.prefetch(tf.data.experimental.AUTOTUNE)"
   ]
  },
  {
   "cell_type": "code",
   "execution_count": null,
   "id": "continuous-costume",
   "metadata": {},
   "outputs": [],
   "source": [
    "mlflow.set_tracking_uri(\"http://localhost:4040\")\n",
    "mlflow.set_experiment(\"tf-mnist-sample\")"
   ]
  },
  {
   "cell_type": "code",
   "execution_count": null,
   "id": "judicial-provider",
   "metadata": {},
   "outputs": [],
   "source": [
    "mlflow.start_run()"
   ]
  },
  {
   "cell_type": "code",
   "execution_count": null,
   "id": "preliminary-retro",
   "metadata": {},
   "outputs": [],
   "source": [
    "model = tf.keras.models.Sequential([\n",
    "  tf.keras.layers.Flatten(input_shape=(28, 28)),\n",
    "  tf.keras.layers.Dense(128,activation='relu'),\n",
    "  tf.keras.layers.Dense(10)\n",
    "])\n",
    "model.compile(\n",
    "    optimizer=tf.keras.optimizers.Adam(0.001),\n",
    "    loss=tf.keras.losses.SparseCategoricalCrossentropy(from_logits=True),\n",
    "    metrics=[tf.keras.metrics.SparseCategoricalAccuracy()],\n",
    ")\n",
    "\n",
    "model.fit(\n",
    "    ds_train,\n",
    "    epochs=6,\n",
    "    validation_data=ds_test,\n",
    ")"
   ]
  },
  {
   "cell_type": "code",
   "execution_count": null,
   "id": "surgical-behalf",
   "metadata": {},
   "outputs": [],
   "source": [
    "for el in ds_test.take(1):\n",
    "    pred = np.argmax(model.predict(el[0]), axis=1)\n",
    "    img = np.array(el[0][:, :,:,0])\n",
    "    print(el[1])\n",
    "    print(pred)"
   ]
  },
  {
   "cell_type": "code",
   "execution_count": null,
   "id": "still-queue",
   "metadata": {},
   "outputs": [],
   "source": [
    "px.imshow(img[1])"
   ]
  },
  {
   "cell_type": "code",
   "execution_count": null,
   "id": "honey-vancouver",
   "metadata": {},
   "outputs": [],
   "source": [
    "model_input = {\"images\": img[0:2]}"
   ]
  },
  {
   "cell_type": "code",
   "execution_count": null,
   "id": "blond-shift",
   "metadata": {},
   "outputs": [],
   "source": [
    "class mnistModel(mlflow.pyfunc.PythonModel):\n",
    "    def __init__(self, config, weights):\n",
    "        self.config = config\n",
    "        self.weights = weights\n",
    "        self.init_model()\n",
    "\n",
    "    def init_model(self):\n",
    "        self.model = tf.keras.Sequential.from_config(self.config)\n",
    "        self.model.set_weights(self.weights)\n",
    "\n",
    "    def predict(self, data):\n",
    "        if self.model is None:\n",
    "            self.init_model()\n",
    "        \n",
    "        input_img = np.expand_dims(np.array(data[\"images\"]), axis=[-1])\n",
    "        values = self.model.predict(input_img)\n",
    "        \n",
    "        return {\"numbers\" : np.argmax(values,axis=1)}\n",
    "    \n",
    "pymodel = mnistModel(model.get_config(), model.get_weights())"
   ]
  },
  {
   "cell_type": "code",
   "execution_count": null,
   "id": "professional-incentive",
   "metadata": {},
   "outputs": [],
   "source": [
    "pymodel.predict(model_input)"
   ]
  },
  {
   "cell_type": "code",
   "execution_count": null,
   "id": "extraordinary-montreal",
   "metadata": {},
   "outputs": [],
   "source": [
    "signature = infer_signature(model_input, pymodel.predict(model_input))"
   ]
  },
  {
   "cell_type": "code",
   "execution_count": null,
   "id": "robust-decision",
   "metadata": {},
   "outputs": [],
   "source": [
    "pymodel.model = None\n",
    "mlflow.sklearn.log_model(pymodel, artifact_path=\"mnistModel\",signature=signature, input_example=model_input, registered_model_name=\"tf-mnist-sample\")"
   ]
  },
  {
   "cell_type": "code",
   "execution_count": null,
   "id": "saving-integral",
   "metadata": {},
   "outputs": [],
   "source": [
    "mlflow.end_run()"
   ]
  },
  {
   "cell_type": "code",
   "execution_count": null,
   "id": "terminal-drinking",
   "metadata": {},
   "outputs": [],
   "source": []
  },
  {
   "cell_type": "code",
   "execution_count": null,
   "id": "turkish-maldives",
   "metadata": {},
   "outputs": [],
   "source": []
  }
 ],
 "metadata": {
  "kernelspec": {
   "display_name": "Python 3",
   "language": "python",
   "name": "python3"
  },
  "language_info": {
   "codemirror_mode": {
    "name": "ipython",
    "version": 3
   },
   "file_extension": ".py",
   "mimetype": "text/x-python",
   "name": "python",
   "nbconvert_exporter": "python",
   "pygments_lexer": "ipython3",
   "version": "3.6.9"
  }
 },
 "nbformat": 4,
 "nbformat_minor": 5
}