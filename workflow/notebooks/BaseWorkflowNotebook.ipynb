{
 "cells": [
  {
   "cell_type": "markdown",
   "metadata": {},
   "source": [
    "# Base Workflow Notebook\n",
    "\n",
    "Please use a similar parameter strucure for your notebooks."
   ]
  },
  {
   "cell_type": "code",
   "execution_count": null,
   "metadata": {
    "tags": [
     "parameters"
    ]
   },
   "outputs": [],
   "source": [
    "params = \"{\\\"a\\\": 100}\"\n",
    "workflow = \"{\\\"dagBase\\\": \\\"/home/af-hub/workflow/dags\\\", \\\"dagFolder\\\": \\\"/home/af-hub/workflow/dags/test\\\", \\\"workingDir\\\": \\\"/home/af-hub/workflow/output/2020-04-02_00_00\\\", \\\"fileStore\\\": \\\"/home/af-hub/workflow/FileStore\\\"}\""
   ]
  },
  {
   "cell_type": "code",
   "execution_count": null,
   "metadata": {},
   "outputs": [],
   "source": [
    "import json\n",
    "params = json.loads(params)\n",
    "workflow = json.loads(workflow)\n",
    "on_databricks = False\n",
    "\n",
    "# get parameters in databricks\n",
    "try:\n",
    "    params=json.loads(dbutils.widgets.get(\"params\"))\n",
    "    workflow=json.loads(dbutils.widgets.get(\"workflow\"))\n",
    "    on_databricks = True\n",
    "    import mlflow\n",
    "except:\n",
    "    pass\n",
    "\n",
    "if not on_databricks:\n",
    "    import afhub\n",
    "    mlflow = afhub.mlflow.get_client()"
   ]
  },
  {
   "cell_type": "code",
   "execution_count": null,
   "metadata": {},
   "outputs": [],
   "source": [
    "print(params[\"a\"])"
   ]
  }
 ],
 "metadata": {
  "kernelspec": {
   "display_name": "Python 3",
   "language": "python",
   "name": "python3"
  },
  "language_info": {
   "codemirror_mode": {
    "name": "ipython",
    "version": 3
   },
   "file_extension": ".py",
   "mimetype": "text/x-python",
   "name": "python",
   "nbconvert_exporter": "python",
   "pygments_lexer": "ipython3",
   "version": "3.6.9"
  }
 },
 "nbformat": 4,
 "nbformat_minor": 4
}